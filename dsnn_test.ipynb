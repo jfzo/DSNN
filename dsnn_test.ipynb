{
 "cells": [
  {
   "cell_type": "code",
   "execution_count": 3,
   "metadata": {
    "collapsed": false,
    "scrolled": true
   },
   "outputs": [
    {
     "name": "stderr",
     "output_type": "stream",
     "text": [
      "\u001b[1m\u001b[36mINFO: \u001b[39m\u001b[22m\u001b[36mExecuting command `docker -v`...\n",
      "\u001b[39m\u001b[1m\u001b[36mINFO: \u001b[39m\u001b[22m\u001b[36mDocker installed!\n",
      "\u001b[39m"
     ]
    },
    {
     "data": {
      "text/plain": [
       "test_dockerworker (generic function with 1 method)"
      ]
     },
     "execution_count": 3,
     "metadata": {},
     "output_type": "execute_result"
    }
   ],
   "source": [
    "include(\"docker/DockerizedJuliaWorker.jl\")"
   ]
  },
  {
   "cell_type": "code",
   "execution_count": 4,
   "metadata": {
    "collapsed": false,
    "scrolled": true
   },
   "outputs": [
    {
     "name": "stderr",
     "output_type": "stream",
     "text": [
      "\u001b[1m\u001b[36mINFO: \u001b[39m\u001b[22m\u001b[36mDeploying Docker 5 container(s) and initialize their SSH daemon...\n",
      "\u001b[39m\u001b[1m\u001b[36mINFO: \u001b[39m\u001b[22m\u001b[36mExecuting command `docker run -tid -v /tmp/results:/DistributedMachineLearningThesis/src/results --cpus 1 -m 2048000000 dmlt`...\n",
      "\u001b[39mWARNING: Your kernel does not support swap limit capabilities or the cgroup is not mounted. Memory limited without swap.\n",
      "\u001b[1m\u001b[36mINFO: \u001b[39m\u001b[22m\u001b[36mContainer b0febb8fb36ab33f6ee76e70fa8adbe05c113077550c756496c65612da5f411d is up\n",
      "\u001b[39m\u001b[1m\u001b[36mINFO: \u001b[39m\u001b[22m\u001b[36mExecuting command `docker exec b0febb8fb36ab33f6ee76e70fa8adbe05c113077550c756496c65612da5f411d /usr/sbin/sshd`...\n",
      "\u001b[39m\u001b[1m\u001b[36mINFO: \u001b[39m\u001b[22m\u001b[36mGetting containers' IP address(es)...\n",
      "\u001b[39m\u001b[1m\u001b[36mINFO: \u001b[39m\u001b[22m\u001b[36mExecuting command `docker inspect '--format={{range .NetworkSettings.Networks}}{{.IPAddress}}{{end}}' b0febb8fb36ab33f6ee76e70fa8adbe05c113077550c756496c65612da5f411d`...\n",
      "\u001b[39m\u001b[1m\u001b[36mINFO: \u001b[39m\u001b[22m\u001b[36mContainers' IP address is 172.17.0.3\n",
      "\u001b[39m\u001b[1m\u001b[36mINFO: \u001b[39m\u001b[22m\u001b[36mExecuting command `docker run -tid -v /tmp/results:/DistributedMachineLearningThesis/src/results --cpus 1 -m 2048000000 dmlt`...\n",
      "\u001b[39mWARNING: Your kernel does not support swap limit capabilities or the cgroup is not mounted. Memory limited without swap.\n",
      "\u001b[1m\u001b[36mINFO: \u001b[39m\u001b[22m\u001b[36mContainer 0541f527f90135a97c82d6db2a40294fdda8e3658e144704c343f461800be4b7 is up\n",
      "\u001b[39m\u001b[1m\u001b[36mINFO: \u001b[39m\u001b[22m\u001b[36mExecuting command `docker exec 0541f527f90135a97c82d6db2a40294fdda8e3658e144704c343f461800be4b7 /usr/sbin/sshd`...\n",
      "\u001b[39m\u001b[1m\u001b[36mINFO: \u001b[39m\u001b[22m\u001b[36mGetting containers' IP address(es)...\n",
      "\u001b[39m\u001b[1m\u001b[36mINFO: \u001b[39m\u001b[22m\u001b[36mExecuting command `docker inspect '--format={{range .NetworkSettings.Networks}}{{.IPAddress}}{{end}}' 0541f527f90135a97c82d6db2a40294fdda8e3658e144704c343f461800be4b7`...\n",
      "\u001b[39m\u001b[1m\u001b[36mINFO: \u001b[39m\u001b[22m\u001b[36mContainers' IP address is 172.17.0.4\n",
      "\u001b[39m\u001b[1m\u001b[36mINFO: \u001b[39m\u001b[22m\u001b[36mExecuting command `docker run -tid -v /tmp/results:/DistributedMachineLearningThesis/src/results --cpus 1 -m 2048000000 dmlt`...\n",
      "\u001b[39mWARNING: Your kernel does not support swap limit capabilities or the cgroup is not mounted. Memory limited without swap.\n",
      "\u001b[1m\u001b[36mINFO: \u001b[39m\u001b[22m\u001b[36mContainer 7e132ff691cc119d73bf61a9cd724aade9a0340885584df24b781e3f67fc9aa8 is up\n",
      "\u001b[39m\u001b[1m\u001b[36mINFO: \u001b[39m\u001b[22m\u001b[36mExecuting command `docker exec 7e132ff691cc119d73bf61a9cd724aade9a0340885584df24b781e3f67fc9aa8 /usr/sbin/sshd`...\n",
      "\u001b[39m\u001b[1m\u001b[36mINFO: \u001b[39m\u001b[22m\u001b[36mGetting containers' IP address(es)...\n",
      "\u001b[39m\u001b[1m\u001b[36mINFO: \u001b[39m\u001b[22m\u001b[36mExecuting command `docker inspect '--format={{range .NetworkSettings.Networks}}{{.IPAddress}}{{end}}' 7e132ff691cc119d73bf61a9cd724aade9a0340885584df24b781e3f67fc9aa8`...\n",
      "\u001b[39m\u001b[1m\u001b[36mINFO: \u001b[39m\u001b[22m\u001b[36mContainers' IP address is 172.17.0.5\n",
      "\u001b[39m\u001b[1m\u001b[36mINFO: \u001b[39m\u001b[22m\u001b[36mExecuting command `docker run -tid -v /tmp/results:/DistributedMachineLearningThesis/src/results --cpus 1 -m 2048000000 dmlt`...\n",
      "\u001b[39mWARNING: Your kernel does not support swap limit capabilities or the cgroup is not mounted. Memory limited without swap.\n",
      "\u001b[1m\u001b[36mINFO: \u001b[39m\u001b[22m\u001b[36mContainer ec3e28840c49134acc2689e4dda861df913b558c364d956a5f9c30786aecc5b0 is up\n",
      "\u001b[39m\u001b[1m\u001b[36mINFO: \u001b[39m\u001b[22m\u001b[36mExecuting command `docker exec ec3e28840c49134acc2689e4dda861df913b558c364d956a5f9c30786aecc5b0 /usr/sbin/sshd`...\n",
      "\u001b[39m\u001b[1m\u001b[36mINFO: \u001b[39m\u001b[22m\u001b[36mGetting containers' IP address(es)...\n",
      "\u001b[39m\u001b[1m\u001b[36mINFO: \u001b[39m\u001b[22m\u001b[36mExecuting command `docker inspect '--format={{range .NetworkSettings.Networks}}{{.IPAddress}}{{end}}' ec3e28840c49134acc2689e4dda861df913b558c364d956a5f9c30786aecc5b0`...\n",
      "\u001b[39m\u001b[1m\u001b[36mINFO: \u001b[39m\u001b[22m\u001b[36mContainers' IP address is 172.17.0.6\n",
      "\u001b[39m\u001b[1m\u001b[36mINFO: \u001b[39m\u001b[22m\u001b[36mExecuting command `docker run -tid -v /tmp/results:/DistributedMachineLearningThesis/src/results --cpus 1 -m 2048000000 dmlt`...\n",
      "\u001b[39mWARNING: Your kernel does not support swap limit capabilities or the cgroup is not mounted. Memory limited without swap.\n",
      "\u001b[1m\u001b[36mINFO: \u001b[39m\u001b[22m\u001b[36mContainer 878efd375b96aa60bd9c5d65559c32e747a9f94fbc115d18d1838f553caf4936 is up\n",
      "\u001b[39m\u001b[1m\u001b[36mINFO: \u001b[39m\u001b[22m\u001b[36mExecuting command `docker exec 878efd375b96aa60bd9c5d65559c32e747a9f94fbc115d18d1838f553caf4936 /usr/sbin/sshd`...\n",
      "\u001b[39m\u001b[1m\u001b[36mINFO: \u001b[39m\u001b[22m\u001b[36mGetting containers' IP address(es)...\n",
      "\u001b[39m\u001b[1m\u001b[36mINFO: \u001b[39m\u001b[22m\u001b[36mExecuting command `docker inspect '--format={{range .NetworkSettings.Networks}}{{.IPAddress}}{{end}}' 878efd375b96aa60bd9c5d65559c32e747a9f94fbc115d18d1838f553caf4936`...\n",
      "\u001b[39m\u001b[1m\u001b[36mINFO: \u001b[39m\u001b[22m\u001b[36mContainers' IP address is 172.17.0.7\n",
      "\u001b[39m\u001b[1m\u001b[36mINFO: \u001b[39m\u001b[22m\u001b[36mCreating 5 Worker(s) through SSH...\n",
      "\u001b[39mWarning: Permanently added '172.17.0.5' (ECDSA) to the list of known hosts.\n",
      "Warning: Permanently added '172.17.0.6' (ECDSA) to the list of known hosts.\n",
      "Warning: Permanently added '172.17.0.4' (ECDSA) to the list of known hosts.\n",
      "Warning: Permanently added '172.17.0.3' (ECDSA) to the list of known hosts.\n",
      "Warning: Permanently added '172.17.0.7' (ECDSA) to the list of known hosts.\n",
      "stdin: is not a tty\n",
      "stdin: is not a tty\n",
      "stdin: is not a tty\n",
      "stdin: is not a tty\n",
      "stdin: is not a tty\n",
      "\u001b[1m\u001b[36mINFO: \u001b[39m\u001b[22m\u001b[36mCreating 5 Worker(s) through SSH... DONE.\n",
      "\t\t\tWorkers' PIDs are \n",
      "[2, 3, 4, 5, 6]\n",
      "\u001b[39m\u001b[1m\u001b[36mINFO: \u001b[39m\u001b[22m\u001b[36mGetting Workers' container IDs to update the pids-cid Dict...\n",
      "\u001b[39m"
     ]
    },
    {
     "data": {
      "text/plain": [
       "5-element Array{Int64,1}:\n",
       " 2\n",
       " 3\n",
       " 4\n",
       " 5\n",
       " 6"
      ]
     },
     "execution_count": 4,
     "metadata": {},
     "output_type": "execute_result"
    }
   ],
   "source": [
    "adddockerworkers(5,_prototype=true)"
   ]
  },
  {
   "cell_type": "code",
   "execution_count": 5,
   "metadata": {
    "collapsed": false
   },
   "outputs": [
    {
     "name": "stdout",
     "output_type": "stream",
     "text": [
      "@fetch(myid()) = 2\n",
      "@fetch(myid()) = 3\n",
      "@fetch(myid()) = 4\n",
      "@fetch(myid()) = 5\n",
      "@fetch(myid()) = 6\n",
      "@fetch(myid()) = 2\n",
      "@fetch(myid()) = 3\n",
      "@fetch(myid()) = 4\n",
      "@fetch(myid()) = 5\n",
      "@fetch(myid()) = 6\n"
     ]
    }
   ],
   "source": [
    "for i=1:10; @show @fetch myid(); end"
   ]
  },
  {
   "cell_type": "code",
   "execution_count": 6,
   "metadata": {
    "collapsed": false
   },
   "outputs": [
    {
     "name": "stderr",
     "output_type": "stream",
     "text": [
      "\u001b[1m\u001b[36mINFO: \u001b[39m\u001b[22m\u001b[36mExecuting command `docker rm -f 878efd375b96aa60bd9c5d65559c32e747a9f94fbc115d18d1838f553caf4936`...\n",
      "\u001b[39m\u001b[1m\u001b[36mINFO: \u001b[39m\u001b[22m\u001b[36mContainer 878efd375b96aa60bd9c5d65559c32e747a9f94fbc115d18d1838f553caf4936 removed.\n",
      "\u001b[39m\u001b[1m\u001b[36mINFO: \u001b[39m\u001b[22m\u001b[36mExecuting command `docker rm -f b0febb8fb36ab33f6ee76e70fa8adbe05c113077550c756496c65612da5f411d`...\n",
      "\u001b[39m\u001b[1m\u001b[36mINFO: \u001b[39m\u001b[22m\u001b[36mContainer b0febb8fb36ab33f6ee76e70fa8adbe05c113077550c756496c65612da5f411d removed.\n",
      "\u001b[39m\u001b[1m\u001b[36mINFO: \u001b[39m\u001b[22m\u001b[36mExecuting command `docker rm -f 0541f527f90135a97c82d6db2a40294fdda8e3658e144704c343f461800be4b7`...\n",
      "\u001b[39m\u001b[1m\u001b[36mINFO: \u001b[39m\u001b[22m\u001b[36mContainer 0541f527f90135a97c82d6db2a40294fdda8e3658e144704c343f461800be4b7 removed.\n",
      "\u001b[39m\u001b[1m\u001b[36mINFO: \u001b[39m\u001b[22m\u001b[36mExecuting command `docker rm -f ec3e28840c49134acc2689e4dda861df913b558c364d956a5f9c30786aecc5b0`...\n",
      "\u001b[39m\u001b[1m\u001b[36mINFO: \u001b[39m\u001b[22m\u001b[36mContainer ec3e28840c49134acc2689e4dda861df913b558c364d956a5f9c30786aecc5b0 removed.\n",
      "\u001b[39m\u001b[1m\u001b[36mINFO: \u001b[39m\u001b[22m\u001b[36mExecuting command `docker rm -f 7e132ff691cc119d73bf61a9cd724aade9a0340885584df24b781e3f67fc9aa8`...\n",
      "\u001b[39m\u001b[1m\u001b[36mINFO: \u001b[39m\u001b[22m\u001b[36mContainer 7e132ff691cc119d73bf61a9cd724aade9a0340885584df24b781e3f67fc9aa8 removed.\n",
      "\u001b[39m"
     ]
    },
    {
     "data": {
      "text/plain": [
       "1-element Array{Int64,1}:\n",
       " 1"
      ]
     },
     "execution_count": 6,
     "metadata": {},
     "output_type": "execute_result"
    }
   ],
   "source": [
    "rmalldockerworkers()"
   ]
  },
  {
   "cell_type": "code",
   "execution_count": 7,
   "metadata": {
    "collapsed": false
   },
   "outputs": [
    {
     "data": {
      "text/plain": [
       "1-element Array{Int64,1}:\n",
       " 1"
      ]
     },
     "execution_count": 7,
     "metadata": {},
     "output_type": "execute_result"
    }
   ],
   "source": [
    "workers()"
   ]
  },
  {
   "cell_type": "code",
   "execution_count": 9,
   "metadata": {
    "collapsed": false
   },
   "outputs": [
    {
     "data": {
      "text/plain": [
       "\"/DSNN/src//dsnn_SNN.jl\""
      ]
     },
     "execution_count": 9,
     "metadata": {},
     "output_type": "execute_result"
    }
   ],
   "source": [
    "pl = \"/DSNN/src\"\n",
    "\n",
    "@sprintf(\"%s/dsnn_SNN.jl\", pl)"
   ]
  },
  {
   "cell_type": "markdown",
   "metadata": {},
   "source": [
    "---"
   ]
  },
  {
   "cell_type": "code",
   "execution_count": 17,
   "metadata": {
    "collapsed": false,
    "scrolled": true
   },
   "outputs": [
    {
     "name": "stderr",
     "output_type": "stream",
     "text": [
      "\u001b[1m\u001b[36mINFO: \u001b[39m\u001b[22m\u001b[36mExecuting command `docker -v`...\n",
      "\u001b[39m\u001b[1m\u001b[36mINFO: \u001b[39m\u001b[22m\u001b[36mDocker installed!\n",
      "\u001b[39mWARNING: replacing module DSNN_IO\n",
      "WARNING: replacing module DSNN_SNN\n",
      "WARNING: replacing module DSNN_EXPERIMENT\n"
     ]
    },
    {
     "data": {
      "text/plain": [
       "Dict{String,Any} with 22 entries:\n",
       "  \"master.snn.eps\"                => 3\n",
       "  \"master.stage2knn\"              => 50\n",
       "  \"worker.knn\"                    => 20\n",
       "  \"worker.coredetection_eps\"      => 3.0\n",
       "  \"worker.coredetection_minpts\"   => 170\n",
       "  \"l2knng.path\"                   => \"/workspace/l2knng/build/knng\"\n",
       "  \"master.dbscan.minpts\"          => 3\n",
       "  \"master.stage2snnsim_threshold\" => 1.0e-6\n",
       "  \"master.dbscan.eps\"             => 0.5\n",
       "  \"benchmark\"                     => \"/workspace/DS3/ds3.dat.clustering.6\"\n",
       "  \"master.snn.minpts\"             => 8\n",
       "  \"master.nodelist\"               => String[\"158.251.93.5:3301\", \"158.251.93.5:…\n",
       "  \"worker.sample_pct\"             => 0.15\n",
       "  \"master.use_snngraph\"           => false\n",
       "  \"worker.snn_eps\"                => 15\n",
       "  \"worker.snn_minpts\"             => 17\n",
       "  \"worker.use_snngraph\"           => true\n",
       "  \"worker.use_snnclustering\"      => true\n",
       "  \"master.inputpath\"              => \"/workspace/DS3/ds3.dat\"\n",
       "  \"master.stage2clustering\"       => \"snn\"\n",
       "  \"seed\"                          => 209299111099644345\n",
       "  \"logging.path\"                  => \"tuning_progress_ds3-04.log\""
      ]
     },
     "execution_count": 17,
     "metadata": {},
     "output_type": "execute_result"
    }
   ],
   "source": [
    "DSNNPATH = \"/DSNN/src\"\n",
    "CONFIG_FILE = \"/DistributedMachineLearningThesis/src/results/DS3/best_config.csv\"\n",
    "\n",
    "include(\"docker/DockerizedJuliaWorker.jl\")\n",
    "\n",
    "include(@sprintf(\"%s/dsnn_IO.jl\", DSNNPATH))\n",
    "include(@sprintf(\"%s/dsnn_SNN.jl\", DSNNPATH))\n",
    "include(@sprintf(\"%s/dsnn_Experiment.jl\", DSNNPATH))\n",
    "\n",
    "config = DSNN_IO.read_configuration(CONFIG_FILE);\n",
    "\n",
    "config"
   ]
  },
  {
   "cell_type": "code",
   "execution_count": 18,
   "metadata": {
    "collapsed": false
   },
   "outputs": [
    {
     "data": {
      "text/plain": [
       "\"/DistributedMachineLearningThesis/src/results/DS3/experiment.log\""
      ]
     },
     "execution_count": 18,
     "metadata": {},
     "output_type": "execute_result"
    }
   ],
   "source": [
    "config[\"l2knng.path\"] = \"/DSNN/l2knng/build/knng\";\n",
    "config[\"master.inputpath\"] = \"/DistributedMachineLearningThesis/src/results/DS3/ds3.dat\"\n",
    "config[\"benchmark\"] = \"/DistributedMachineLearningThesis/src/results/DS3/ds3.dat.clustering.6\"\n",
    "config[\"logging.path\"] = \"/DistributedMachineLearningThesis/src/results/DS3/experiment.log\""
   ]
  },
  {
   "cell_type": "code",
   "execution_count": 21,
   "metadata": {
    "collapsed": false
   },
   "outputs": [
    {
     "name": "stderr",
     "output_type": "stream",
     "text": [
      "\u001b[1m\u001b[36mINFO: \u001b[39m\u001b[22m\u001b[36mDeploying Docker 5 container(s) and initialize their SSH daemon...\n",
      "\u001b[39m\u001b[1m\u001b[36mINFO: \u001b[39m\u001b[22m\u001b[36mExecuting command `docker run -tid -v /tmp/results:/DistributedMachineLearningThesis/src/results --cpus 1 -m 2048000000 dmlt`...\n",
      "\u001b[39mWARNING: Your kernel does not support swap limit capabilities or the cgroup is not mounted. Memory limited without swap.\n",
      "\u001b[1m\u001b[36mINFO: \u001b[39m\u001b[22m\u001b[36mContainer 00edcea66a71a92f4e9385ce869f08d398cf6475c850ba4ea6e7e7128fd67913 is up\n",
      "\u001b[39m\u001b[1m\u001b[36mINFO: \u001b[39m\u001b[22m\u001b[36mExecuting command `docker exec 00edcea66a71a92f4e9385ce869f08d398cf6475c850ba4ea6e7e7128fd67913 /usr/sbin/sshd`...\n",
      "\u001b[39m\u001b[1m\u001b[36mINFO: \u001b[39m\u001b[22m\u001b[36mGetting containers' IP address(es)...\n",
      "\u001b[39m\u001b[1m\u001b[36mINFO: \u001b[39m\u001b[22m\u001b[36mExecuting command `docker inspect '--format={{range .NetworkSettings.Networks}}{{.IPAddress}}{{end}}' 00edcea66a71a92f4e9385ce869f08d398cf6475c850ba4ea6e7e7128fd67913`...\n",
      "\u001b[39m\u001b[1m\u001b[36mINFO: \u001b[39m\u001b[22m\u001b[36mContainers' IP address is 172.17.0.3\n",
      "\u001b[39m\u001b[1m\u001b[36mINFO: \u001b[39m\u001b[22m\u001b[36mExecuting command `docker run -tid -v /tmp/results:/DistributedMachineLearningThesis/src/results --cpus 1 -m 2048000000 dmlt`...\n",
      "\u001b[39mWARNING: Your kernel does not support swap limit capabilities or the cgroup is not mounted. Memory limited without swap.\n",
      "\u001b[1m\u001b[36mINFO: \u001b[39m\u001b[22m\u001b[36mContainer 7ebc0df8ef7e6b8ef9ebe928b560a06ac5d743815c40b75237145857b17b5fbf is up\n",
      "\u001b[39m\u001b[1m\u001b[36mINFO: \u001b[39m\u001b[22m\u001b[36mExecuting command `docker exec 7ebc0df8ef7e6b8ef9ebe928b560a06ac5d743815c40b75237145857b17b5fbf /usr/sbin/sshd`...\n",
      "\u001b[39m\u001b[1m\u001b[36mINFO: \u001b[39m\u001b[22m\u001b[36mGetting containers' IP address(es)...\n",
      "\u001b[39m\u001b[1m\u001b[36mINFO: \u001b[39m\u001b[22m\u001b[36mExecuting command `docker inspect '--format={{range .NetworkSettings.Networks}}{{.IPAddress}}{{end}}' 7ebc0df8ef7e6b8ef9ebe928b560a06ac5d743815c40b75237145857b17b5fbf`...\n",
      "\u001b[39m\u001b[1m\u001b[36mINFO: \u001b[39m\u001b[22m\u001b[36mContainers' IP address is 172.17.0.4\n",
      "\u001b[39m\u001b[1m\u001b[36mINFO: \u001b[39m\u001b[22m\u001b[36mExecuting command `docker run -tid -v /tmp/results:/DistributedMachineLearningThesis/src/results --cpus 1 -m 2048000000 dmlt`...\n",
      "\u001b[39mWARNING: Your kernel does not support swap limit capabilities or the cgroup is not mounted. Memory limited without swap.\n",
      "\u001b[1m\u001b[36mINFO: \u001b[39m\u001b[22m\u001b[36mContainer bcb4616468d10a0169f1deb8906a69f785938490b685dd2ab63387b7814cf0f1 is up\n",
      "\u001b[39m\u001b[1m\u001b[36mINFO: \u001b[39m\u001b[22m\u001b[36mExecuting command `docker exec bcb4616468d10a0169f1deb8906a69f785938490b685dd2ab63387b7814cf0f1 /usr/sbin/sshd`...\n",
      "\u001b[39m\u001b[1m\u001b[36mINFO: \u001b[39m\u001b[22m\u001b[36mGetting containers' IP address(es)...\n",
      "\u001b[39m\u001b[1m\u001b[36mINFO: \u001b[39m\u001b[22m\u001b[36mExecuting command `docker inspect '--format={{range .NetworkSettings.Networks}}{{.IPAddress}}{{end}}' bcb4616468d10a0169f1deb8906a69f785938490b685dd2ab63387b7814cf0f1`...\n",
      "\u001b[39m\u001b[1m\u001b[36mINFO: \u001b[39m\u001b[22m\u001b[36mContainers' IP address is 172.17.0.5\n",
      "\u001b[39m\u001b[1m\u001b[36mINFO: \u001b[39m\u001b[22m\u001b[36mExecuting command `docker run -tid -v /tmp/results:/DistributedMachineLearningThesis/src/results --cpus 1 -m 2048000000 dmlt`...\n",
      "\u001b[39mWARNING: Your kernel does not support swap limit capabilities or the cgroup is not mounted. Memory limited without swap.\n",
      "\u001b[1m\u001b[36mINFO: \u001b[39m\u001b[22m\u001b[36mContainer 375bb6421deb37372ba3593a60d554b252f8de38c538c456a94276224349ca28 is up\n",
      "\u001b[39m\u001b[1m\u001b[36mINFO: \u001b[39m\u001b[22m\u001b[36mExecuting command `docker exec 375bb6421deb37372ba3593a60d554b252f8de38c538c456a94276224349ca28 /usr/sbin/sshd`...\n",
      "\u001b[39m\u001b[1m\u001b[36mINFO: \u001b[39m\u001b[22m\u001b[36mGetting containers' IP address(es)...\n",
      "\u001b[39m\u001b[1m\u001b[36mINFO: \u001b[39m\u001b[22m\u001b[36mExecuting command `docker inspect '--format={{range .NetworkSettings.Networks}}{{.IPAddress}}{{end}}' 375bb6421deb37372ba3593a60d554b252f8de38c538c456a94276224349ca28`...\n",
      "\u001b[39m\u001b[1m\u001b[36mINFO: \u001b[39m\u001b[22m\u001b[36mContainers' IP address is 172.17.0.6\n",
      "\u001b[39m\u001b[1m\u001b[36mINFO: \u001b[39m\u001b[22m\u001b[36mExecuting command `docker run -tid -v /tmp/results:/DistributedMachineLearningThesis/src/results --cpus 1 -m 2048000000 dmlt`...\n",
      "\u001b[39mWARNING: Your kernel does not support swap limit capabilities or the cgroup is not mounted. Memory limited without swap.\n",
      "\u001b[1m\u001b[36mINFO: \u001b[39m\u001b[22m\u001b[36mContainer 9a3489a09c18bca9f2e72e18809dff462c563a2005eb30a5c1d4dfc52c3ae7f6 is up\n",
      "\u001b[39m\u001b[1m\u001b[36mINFO: \u001b[39m\u001b[22m\u001b[36mExecuting command `docker exec 9a3489a09c18bca9f2e72e18809dff462c563a2005eb30a5c1d4dfc52c3ae7f6 /usr/sbin/sshd`...\n",
      "\u001b[39m\u001b[1m\u001b[36mINFO: \u001b[39m\u001b[22m\u001b[36mGetting containers' IP address(es)...\n",
      "\u001b[39m\u001b[1m\u001b[36mINFO: \u001b[39m\u001b[22m\u001b[36mExecuting command `docker inspect '--format={{range .NetworkSettings.Networks}}{{.IPAddress}}{{end}}' 9a3489a09c18bca9f2e72e18809dff462c563a2005eb30a5c1d4dfc52c3ae7f6`...\n",
      "\u001b[39m\u001b[1m\u001b[36mINFO: \u001b[39m\u001b[22m\u001b[36mContainers' IP address is 172.17.0.7\n",
      "\u001b[39m\u001b[1m\u001b[36mINFO: \u001b[39m\u001b[22m\u001b[36mCreating 5 Worker(s) through SSH...\n",
      "\u001b[39mstdin: is not a tty\n",
      "stdin: is not a tty\n",
      "stdin: is not a tty\n",
      "stdin: is not a tty\n",
      "stdin: is not a tty\n",
      "\u001b[1m\u001b[36mINFO: \u001b[39m\u001b[22m\u001b[36mCreating 5 Worker(s) through SSH... DONE.\n",
      "\t\t\tWorkers' PIDs are \n",
      "[12, 13, 14, 15, 16]\n",
      "\u001b[39m\u001b[1m\u001b[36mINFO: \u001b[39m\u001b[22m\u001b[36mGetting Workers' container IDs to update the pids-cid Dict...\n",
      "\u001b[39m"
     ]
    },
    {
     "name": "stdout",
     "output_type": "stream",
     "text": [
      "Logging file: /DistributedMachineLearningThesis/src/results/DS3/experiment.log\n"
     ]
    },
    {
     "name": "stderr",
     "output_type": "stream",
     "text": [
      "WARNING: replacing module DSNN_IO\n",
      "WARNING: replacing module DSNN_SNN\n"
     ]
    },
    {
     "ename": "LoadError",
     "evalue": "\u001b[91m\u001b[91mOn worker 12:\n\u001b[91mSystemError: opening file /DSNN/src/dsnn_Master.jl: No such file or directory\u001b[39m\n#systemerror#44 at ./error.jl:64 [inlined]\nsystemerror at ./error.jl:64\nopen at ./iostream.jl:104\nopen at ./iostream.jl:150\nreadstring at ./io.jl:541\n#106 at ./distributed/process_messages.jl:268 [inlined]\nrun_work_thunk at ./distributed/process_messages.jl:56\nmacro expansion at ./distributed/process_messages.jl:268 [inlined]\n#105 at ./event.jl:73\u001b[39m\n#remotecall_fetch#141(::Array{Any,1}, ::Function, ::Function, ::Base.Distributed.Worker, ::Expr, ::Vararg{Expr,N} where N) at ./distributed/remotecall.jl:354\nremotecall_fetch(::Function, ::Base.Distributed.Worker, ::Expr, ::Vararg{Expr,N} where N) at ./distributed/remotecall.jl:346\n#remotecall_fetch#144(::Array{Any,1}, ::Function, ::Function, ::Int64, ::Expr, ::Vararg{Expr,N} where N) at ./distributed/remotecall.jl:367\nremotecall_fetch(::Function, ::Int64, ::Expr, ::Vararg{Expr,N} where N) at ./distributed/remotecall.jl:367\n(::##70#72)() at ./distributed/macros.jl:102\n\n...and 5 more exception(s).\n\u001b[39m",
     "output_type": "error",
     "traceback": [
      "\u001b[91m\u001b[91mOn worker 12:\n\u001b[91mSystemError: opening file /DSNN/src/dsnn_Master.jl: No such file or directory\u001b[39m\n#systemerror#44 at ./error.jl:64 [inlined]\nsystemerror at ./error.jl:64\nopen at ./iostream.jl:104\nopen at ./iostream.jl:150\nreadstring at ./io.jl:541\n#106 at ./distributed/process_messages.jl:268 [inlined]\nrun_work_thunk at ./distributed/process_messages.jl:56\nmacro expansion at ./distributed/process_messages.jl:268 [inlined]\n#105 at ./event.jl:73\u001b[39m\n#remotecall_fetch#141(::Array{Any,1}, ::Function, ::Function, ::Base.Distributed.Worker, ::Expr, ::Vararg{Expr,N} where N) at ./distributed/remotecall.jl:354\nremotecall_fetch(::Function, ::Base.Distributed.Worker, ::Expr, ::Vararg{Expr,N} where N) at ./distributed/remotecall.jl:346\n#remotecall_fetch#144(::Array{Any,1}, ::Function, ::Function, ::Int64, ::Expr, ::Vararg{Expr,N} where N) at ./distributed/remotecall.jl:367\nremotecall_fetch(::Function, ::Int64, ::Expr, ::Vararg{Expr,N} where N) at ./distributed/remotecall.jl:367\n(::##70#72)() at ./distributed/macros.jl:102\n\n...and 5 more exception(s).\n\u001b[39m",
      "",
      "Stacktrace:",
      " [1] \u001b[1msync_end\u001b[22m\u001b[22m\u001b[1m(\u001b[22m\u001b[22m\u001b[1m)\u001b[22m\u001b[22m at \u001b[1m./task.jl:287\u001b[22m\u001b[22m",
      " [2] \u001b[1mmacro expansion\u001b[22m\u001b[22m at \u001b[1m./distributed/macros.jl:112\u001b[22m\u001b[22m [inlined]",
      " [3] \u001b[1manonymous\u001b[22m\u001b[22m at \u001b[1m./<missing>:?\u001b[22m\u001b[22m",
      " [4] \u001b[1minclude_string\u001b[22m\u001b[22m\u001b[1m(\u001b[22m\u001b[22m::String, ::String\u001b[1m)\u001b[22m\u001b[22m at \u001b[1m./loading.jl:522\u001b[22m\u001b[22m",
      " [5] \u001b[1mexecute_request\u001b[22m\u001b[22m\u001b[1m(\u001b[22m\u001b[22m::ZMQ.Socket, ::IJulia.Msg\u001b[1m)\u001b[22m\u001b[22m at \u001b[1m/root/.julia/v0.6/IJulia/src/execute_request.jl:193\u001b[22m\u001b[22m",
      " [6] \u001b[1m(::Compat.#inner#6{Array{Any,1},IJulia.#execute_request,Tuple{ZMQ.Socket,IJulia.Msg}})\u001b[22m\u001b[22m\u001b[1m(\u001b[22m\u001b[22m\u001b[1m)\u001b[22m\u001b[22m at \u001b[1m/root/.julia/v0.6/Compat/src/Compat.jl:189\u001b[22m\u001b[22m",
      " [7] \u001b[1meventloop\u001b[22m\u001b[22m\u001b[1m(\u001b[22m\u001b[22m::ZMQ.Socket\u001b[1m)\u001b[22m\u001b[22m at \u001b[1m/root/.julia/v0.6/IJulia/src/eventloop.jl:8\u001b[22m\u001b[22m",
      " [8] \u001b[1m(::IJulia.##13#16)\u001b[22m\u001b[22m\u001b[1m(\u001b[22m\u001b[22m\u001b[1m)\u001b[22m\u001b[22m at \u001b[1m./task.jl:335\u001b[22m\u001b[22m"
     ]
    }
   ],
   "source": [
    "adddockerworkers(5, _prototype=true)\n",
    "\n",
    "output = open(config[\"logging.path\"], \"w\");\n",
    "println(\"Logging file: \", config[\"logging.path\"]);\n",
    "\n",
    "@everywhere DSNNPATH = \"/DSNN/src\"\n",
    "@everywhere include(@sprintf(\"%s/dsnn_IO.jl\", DSNNPATH))\n",
    "@everywhere include(@sprintf(\"%s/dsnn_KNN.jl\", DSNNPATH))\n",
    "@everywhere include(@sprintf(\"%s/dsnn_SNN.jl\", DSNNPATH))\n",
    "@everywhere include(@sprintf(\"%s/dsnn_Master.jl\", DSNNPATH))\n",
    "\n",
    "using Graphs\n",
    "using CSV\n",
    "\n",
    "results = Dict{String,Any}();\n",
    "\n",
    "run_seed = config[\"seed\"];\n",
    "srand(run_seed);\n",
    "DATA_PATH = config[\"master.inputpath\"];\n",
    "BENCHMARK = config[\"benchmark\"];\n",
    "DATA_LEN, DATA_DIM = DSNN_IO.get_dimensions_from_input_file(DATA_PATH);\n",
    "partitions = DSNN_Master.generate_partitions(length(workers()), DATA_LEN); # N must be extracted from the data.\n",
    "\n",
    "\n",
    "#println(\"\\n\\n***********************************************************\")\n",
    "write(output, \"\\n***********************************************************\\n\");\n",
    "#println(DSNN_EXPERIMENT.config_as_str(config));\n",
    "write(output, DSNN_EXPERIMENT.config_as_str(config));\n",
    "write(output,\"\\n\");\n",
    "tic();\n",
    "DSNN_Master.start(results, DATA_PATH, partitions, config);\n",
    "elapsed_t = toc();\n",
    "#storing final result\n",
    "write(output, \"***** TIMERS ******\\n\");\n",
    "write(output, @sprintf(\"elapsed_worker_clustering: %f\\n\", results[\"elapsed_worker_clustering\"]));\n",
    "write(output, @sprintf(\"elapsed_master_wresults_join: %f\\n\", results[\"elapsed_master_wresults_join\"]));\n",
    "write(output, @sprintf(\"elapsed_master_similarity_computation: %f\\n\", results[\"elapsed_master_similarity_computation\"]));\n",
    "write(output, @sprintf(\"elapsed_master_clustering: %f\\n\", results[\"elapsed_master_clustering\"]));\n",
    "write(output, @sprintf(\"elapsed_stage2_retransmission: %f\\n\", results[\"elapsed_stage2_retransmission\"]));\n",
    "write(output, @sprintf(\"elapsed_master_final_label_join: %f\\n\", results[\"elapsed_master_final_label_join\"]));\n",
    "write(output, @sprintf(\"Elapsed time: %f\\n\", elapsed_t));\n",
    "writedlm(@sprintf(\"%s.dsnnfinal.labels\",DATA_PATH), results[\"stage2_labels\"], \"\\n\");\n",
    "write(output, \"Final labels stored at \",@sprintf(\"%s.dsnnfinal.labels\\n\",DATA_PATH));\n",
    "\n",
    "\n",
    "\n",
    "# Experimentation over the obtained corepoints\n",
    "D = DSNN_IO.sparseMatFromFile(DATA_PATH, l2normalize=true);\n",
    "real_labels = vec(readdlm(@sprintf(\"%s.labels\",DATA_PATH), Int32));\n",
    "\n",
    "Dw = D[:,results[\"stage1_corepoints\"]];\n",
    "cp_real_labels = real_labels[results[\"stage1_corepoints\"]];\n",
    "\n",
    "CSV.write(@sprintf(\"%s.corepoints.csv\",DATA_PATH), DataFrames.DataFrame(full(transpose(Dw))), delim=' ',  header=false);\n",
    "writedlm(@sprintf(\"%s.corepoints.labels\",DATA_PATH), cp_real_labels, \"\\n\");\n",
    "#println(\"Corepoint labels identified in Stage-2 were stored in file \",@sprintf(\"%s.corepoints.labels\",DATA_PATH));\n",
    "write(output, \"Corepoint labels identified in Stage-1 were stored in file \",@sprintf(\"%s.corepoints.labels (%d)\\n\",DATA_PATH, length(results[\"stage1_corepoints\"])));\n",
    "\n",
    "\n",
    "snnmat, knnmat = DSNN_KNN.get_snnsimilarity(Dw, config[\"master.stage2knn\"], l2knng_path=config[\"l2knng.path\"]);\n",
    "\n",
    "adj_mat = snnmat;\n",
    "if config[\"master.use_snngraph\"]\n",
    "    snngraph = DSNN_KNN.get_snngraph(knnmat, snnmat);\n",
    "    adj_mat = snngraph;\n",
    "end"
   ]
  },
  {
   "cell_type": "code",
   "execution_count": 20,
   "metadata": {
    "collapsed": false
   },
   "outputs": [
    {
     "name": "stderr",
     "output_type": "stream",
     "text": [
      "\u001b[1m\u001b[36mINFO: \u001b[39m\u001b[22m\u001b[36mExecuting command `docker rm -f 0f71275faeeb1bae60123e780aabc92d5cacb3fb0cf227451854e9176aa18f53`...\n",
      "\u001b[39m\u001b[1m\u001b[36mINFO: \u001b[39m\u001b[22m\u001b[36mContainer 0f71275faeeb1bae60123e780aabc92d5cacb3fb0cf227451854e9176aa18f53 removed.\n",
      "\u001b[39m\u001b[1m\u001b[36mINFO: \u001b[39m\u001b[22m\u001b[36mExecuting command `docker rm -f 2094853579e5585e29d7f4bfccd1382469d256797e724a8c5696f04756f5b897`...\n",
      "\u001b[39m\u001b[1m\u001b[36mINFO: \u001b[39m\u001b[22m\u001b[36mContainer 2094853579e5585e29d7f4bfccd1382469d256797e724a8c5696f04756f5b897 removed.\n",
      "\u001b[39m\u001b[1m\u001b[36mINFO: \u001b[39m\u001b[22m\u001b[36mExecuting command `docker rm -f 3b2f455ac47620bf108225c15fb4000dbe3ca4e544b6b06beaa00c8cca190f2d`...\n",
      "\u001b[39m\u001b[1m\u001b[36mINFO: \u001b[39m\u001b[22m\u001b[36mContainer 3b2f455ac47620bf108225c15fb4000dbe3ca4e544b6b06beaa00c8cca190f2d removed.\n",
      "\u001b[39m\u001b[1m\u001b[36mINFO: \u001b[39m\u001b[22m\u001b[36mExecuting command `docker rm -f 65368bb851ccbc0c69e4fb59fcb8dcab7346d6def694d1d2633fea49421d01e3`...\n",
      "\u001b[39m\u001b[1m\u001b[36mINFO: \u001b[39m\u001b[22m\u001b[36mContainer 65368bb851ccbc0c69e4fb59fcb8dcab7346d6def694d1d2633fea49421d01e3 removed.\n",
      "\u001b[39m\u001b[1m\u001b[36mINFO: \u001b[39m\u001b[22m\u001b[36mExecuting command `docker rm -f a891b2858523a17003ceb7f5ba3e88af2aa365e4629b9085831b3a3b87211530`...\n",
      "\u001b[39m\u001b[1m\u001b[36mINFO: \u001b[39m\u001b[22m\u001b[36mContainer a891b2858523a17003ceb7f5ba3e88af2aa365e4629b9085831b3a3b87211530 removed.\n",
      "\u001b[39m"
     ]
    },
    {
     "data": {
      "text/plain": [
       "1-element Array{Int64,1}:\n",
       " 1"
      ]
     },
     "execution_count": 20,
     "metadata": {},
     "output_type": "execute_result"
    }
   ],
   "source": [
    "rmalldockerworkers()"
   ]
  },
  {
   "cell_type": "code",
   "execution_count": null,
   "metadata": {
    "collapsed": true
   },
   "outputs": [],
   "source": []
  }
 ],
 "metadata": {
  "kernelspec": {
   "display_name": "Julia 0.6.2",
   "language": "julia",
   "name": "julia-0.6"
  },
  "language_info": {
   "file_extension": ".jl",
   "mimetype": "application/julia",
   "name": "julia",
   "version": "0.6.2"
  }
 },
 "nbformat": 4,
 "nbformat_minor": 2
}
